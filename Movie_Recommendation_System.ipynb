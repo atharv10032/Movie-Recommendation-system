{
  "cells": [
    {
      "cell_type": "markdown",
      "metadata": {
        "colab_type": "text",
        "id": "view-in-github"
      },
      "source": [
        "<a href=\"https://colab.research.google.com/github/atharva-729/Movie-Recommendation-System/blob/main/Movie_Recommendation_System.ipynb\" target=\"_parent\"><img src=\"https://colab.research.google.com/assets/colab-badge.svg\" alt=\"Open In Colab\"/></a>"
      ]
    },
    {
      "cell_type": "code",
      "execution_count": null,
      "metadata": {
        "colab": {
          "base_uri": "https://localhost:8080/"
        },
        "id": "KP1UBfJYJzf2",
        "outputId": "fe7eb243-6c8e-4ef9-befa-bf33a30daa8e"
      },
      "outputs": [],
      "source": [
        "!pip install opendatasets"
      ]
    },
    {
      "cell_type": "code",
      "execution_count": null,
      "metadata": {
        "colab": {
          "base_uri": "https://localhost:8080/"
        },
        "id": "rJi-zKbASsrT",
        "outputId": "743417ba-1586-43fc-d33a-a9b1fb610aba"
      },
      "outputs": [],
      "source": [
        "import opendatasets as od\n",
        "import pandas as pd\n",
        "\n",
        "od.download(\"https://www.kaggle.com/datasets/tmdb/tmdb-movie-metadata/\")"
      ]
    },
    {
      "cell_type": "code",
      "execution_count": null,
      "metadata": {
        "id": "WkHKudL5PakC"
      },
      "outputs": [],
      "source": [
        "import matplotlib.pyplot as plt\n",
        "import json\n",
        "\n",
        "from sklearn.feature_extraction.text import TfidfVectorizer\n",
        "from sklearn.metrics.pairwise import cosine_similarity, euclidean_distances"
      ]
    },
    {
      "cell_type": "code",
      "execution_count": null,
      "metadata": {
        "colab": {
          "base_uri": "https://localhost:8080/"
        },
        "id": "IhtgV_VrcrjT",
        "outputId": "9b42e118-bcdb-4f51-9ac0-ab12b8a138e1"
      },
      "outputs": [],
      "source": [
        "%cd /content/tmdb-movie-metadata"
      ]
    },
    {
      "cell_type": "code",
      "execution_count": null,
      "metadata": {
        "id": "morOlBq-di-3"
      },
      "outputs": [],
      "source": [
        "movies = pd.read_csv(\"tmdb_5000_movies.csv\")"
      ]
    },
    {
      "cell_type": "code",
      "execution_count": null,
      "metadata": {
        "colab": {
          "base_uri": "https://localhost:8080/",
          "height": 729
        },
        "id": "X2ULM9J1dmp1",
        "outputId": "9135ae82-d471-41f6-9c21-d4a599d2af52"
      },
      "outputs": [],
      "source": [
        "movies.head()"
      ]
    },
    {
      "cell_type": "code",
      "execution_count": null,
      "metadata": {
        "id": "ODmVDx-deCgU"
      },
      "outputs": [],
      "source": [
        "credits = pd.read_csv(\"tmdb_5000_credits.csv\")"
      ]
    },
    {
      "cell_type": "code",
      "execution_count": null,
      "metadata": {
        "colab": {
          "base_uri": "https://localhost:8080/",
          "height": 431
        },
        "id": "mKOS45U1KKxz",
        "outputId": "626fde15-80c2-42be-ce49-be9bb1986884"
      },
      "outputs": [],
      "source": [
        "credits.head()"
      ]
    },
    {
      "cell_type": "code",
      "execution_count": null,
      "metadata": {
        "colab": {
          "base_uri": "https://localhost:8080/"
        },
        "id": "6GdYmxxnKNID",
        "outputId": "5f63a77d-511f-41b4-b97e-32fbeff12501"
      },
      "outputs": [],
      "source": [
        "credits.shape"
      ]
    },
    {
      "cell_type": "code",
      "execution_count": null,
      "metadata": {
        "colab": {
          "base_uri": "https://localhost:8080/"
        },
        "id": "RApmFDWNKTtW",
        "outputId": "d7ee9362-05a6-4b1c-abb2-ae626dd8a63b"
      },
      "outputs": [],
      "source": [
        "movies.shape"
      ]
    },
    {
      "cell_type": "code",
      "execution_count": null,
      "metadata": {
        "colab": {
          "base_uri": "https://localhost:8080/"
        },
        "id": "QmuaDMubKXqa",
        "outputId": "12f5d844-e04b-4020-bbc8-f3c87e9f3f1f"
      },
      "outputs": [],
      "source": [
        "movies.isna().sum()"
      ]
    },
    {
      "cell_type": "code",
      "execution_count": null,
      "metadata": {
        "colab": {
          "base_uri": "https://localhost:8080/"
        },
        "id": "FF_W65T5Kp05",
        "outputId": "bc8b51a6-e9af-45e9-f7a9-ac7577f3050e"
      },
      "outputs": [],
      "source": [
        "movies.columns"
      ]
    },
    {
      "cell_type": "code",
      "execution_count": null,
      "metadata": {
        "colab": {
          "base_uri": "https://localhost:8080/"
        },
        "id": "mGvyDl_ZKzJS",
        "outputId": "7abe80cf-ffe7-442a-99bf-c18755be4e33"
      },
      "outputs": [],
      "source": [
        "movies.id"
      ]
    },
    {
      "cell_type": "code",
      "execution_count": null,
      "metadata": {
        "id": "l3BNuLR_K2VS"
      },
      "outputs": [],
      "source": [
        "movies.drop([\"homepage\"], axis=1, inplace=True)"
      ]
    },
    {
      "cell_type": "code",
      "execution_count": null,
      "metadata": {
        "colab": {
          "base_uri": "https://localhost:8080/",
          "height": 187
        },
        "id": "VtFNdP4zLFXr",
        "outputId": "1f675cf8-0799-4261-e726-29e553bc2d02"
      },
      "outputs": [],
      "source": [
        "movies.loc[movies.release_date.isna()]"
      ]
    },
    {
      "cell_type": "code",
      "execution_count": null,
      "metadata": {
        "colab": {
          "base_uri": "https://localhost:8080/"
        },
        "id": "XvA9l_FeLMjK",
        "outputId": "49eab50d-3f9e-492e-abff-21730cd073ca"
      },
      "outputs": [],
      "source": [
        "credits.isna().sum()"
      ]
    },
    {
      "cell_type": "code",
      "execution_count": null,
      "metadata": {
        "colab": {
          "base_uri": "https://localhost:8080/"
        },
        "id": "fOMRQ6B4NF99",
        "outputId": "5e893716-ff0b-4f6c-ff41-3da60e423306"
      },
      "outputs": [],
      "source": [
        "credits.loc[4553]"
      ]
    },
    {
      "cell_type": "code",
      "execution_count": null,
      "metadata": {
        "id": "oBHGyU-RNJCG"
      },
      "outputs": [],
      "source": [
        "movies.drop(4553, inplace=True)\n",
        "credits.drop(4553, inplace=True)\n",
        "credits.reset_index(drop=True, inplace=True)\n",
        "movies.reset_index(drop=True, inplace=True)"
      ]
    },
    {
      "cell_type": "code",
      "execution_count": null,
      "metadata": {
        "colab": {
          "base_uri": "https://localhost:8080/"
        },
        "id": "rDNPp739NfD7",
        "outputId": "3bfe5b70-1112-4db9-d000-8b75cbef128b"
      },
      "outputs": [],
      "source": [
        "movies.isna().sum()"
      ]
    },
    {
      "cell_type": "code",
      "execution_count": null,
      "metadata": {
        "colab": {
          "base_uri": "https://localhost:8080/",
          "height": 389
        },
        "id": "agfRKLmwNi8I",
        "outputId": "c368e78d-f434-40fb-97bb-951835a13073"
      },
      "outputs": [],
      "source": [
        "movies.loc[movies.overview.isna()]"
      ]
    },
    {
      "cell_type": "code",
      "execution_count": null,
      "metadata": {
        "colab": {
          "base_uri": "https://localhost:8080/",
          "height": 53
        },
        "id": "N61bH-SANsVt",
        "outputId": "cbfc6eed-9613-49a7-9ec9-f1f9e97d5b9f"
      },
      "outputs": [],
      "source": [
        "movies.genres[0]"
      ]
    },
    {
      "cell_type": "markdown",
      "metadata": {
        "id": "fsZkxEZqQEQb"
      },
      "source": [
        "**genres and ither columns have json listed values**"
      ]
    },
    {
      "cell_type": "code",
      "execution_count": null,
      "metadata": {
        "colab": {
          "base_uri": "https://localhost:8080/"
        },
        "id": "0fSj2JI2QKdd",
        "outputId": "3916c9e7-2c45-4e72-89d1-f7b4c5ea8877"
      },
      "outputs": [],
      "source": [
        "j = json.loads(movies.genres[0])\n",
        "j"
      ]
    },
    {
      "cell_type": "code",
      "execution_count": null,
      "metadata": {
        "colab": {
          "base_uri": "https://localhost:8080/",
          "height": 35
        },
        "id": "PM1Nl2XyQajn",
        "outputId": "58a32ec8-a6ef-471b-89c6-3b9a9ba1a14f"
      },
      "outputs": [],
      "source": [
        "\" \".join(\"\".join(gen[\"name\"].split()) for gen in j)"
      ]
    },
    {
      "cell_type": "markdown",
      "metadata": {
        "id": "JiR-djjNQ5iE"
      },
      "source": [
        "this above line explained:\n",
        "we cycle throught the list j and we split for the reason of getting genres like \"Science Fiction\" which have a space in between into a single word <br>\n",
        "afterwards we join all the genres into a string, where they are separated by space"
      ]
    },
    {
      "cell_type": "markdown",
      "metadata": {
        "id": "VEKirqHIRAx-"
      },
      "source": [
        "**We mostly need the genres and keywords columns** <br>\n",
        "so we will be mostly using those now and put them in the TfIdfVectorizer"
      ]
    },
    {
      "cell_type": "code",
      "execution_count": null,
      "metadata": {
        "id": "swPwSajjRw_5"
      },
      "outputs": [],
      "source": [
        "def genres_and_keywords_to_string(row):\n",
        "  genres = json.loads(row[\"genres\"])\n",
        "  genres = \" \".join(\"\".join(gen[\"name\"].split()) for gen in genres)\n",
        "\n",
        "  keywords = json.loads(row[\"keywords\"])\n",
        "  keywords = \" \".join(\"\".join(key[\"name\"].split()) for key in keywords)\n",
        "  return \"%s %s\" % (genres, keywords)"
      ]
    },
    {
      "cell_type": "code",
      "execution_count": null,
      "metadata": {
        "id": "CnY_cgQZSENH"
      },
      "outputs": [],
      "source": [
        "# make new column for the string we manufacture\n",
        "movies[\"string\"] = movies.apply(genres_and_keywords_to_string, axis=1)"
      ]
    },
    {
      "cell_type": "code",
      "execution_count": null,
      "metadata": {
        "id": "yav2ieFMWpHV"
      },
      "outputs": [],
      "source": [
        "tfidf = TfidfVectorizer(max_features=2000)"
      ]
    },
    {
      "cell_type": "code",
      "execution_count": null,
      "metadata": {
        "id": "EzQjzKgsWyF1"
      },
      "outputs": [],
      "source": [
        "X = tfidf.fit_transform(movies[\"string\"])"
      ]
    },
    {
      "cell_type": "code",
      "execution_count": null,
      "metadata": {
        "colab": {
          "base_uri": "https://localhost:8080/"
        },
        "id": "k2wWt_uFXbKO",
        "outputId": "cf7493c4-e8b1-4270-80a1-e764aafc9595"
      },
      "outputs": [],
      "source": [
        "X"
      ]
    },
    {
      "cell_type": "markdown",
      "metadata": {
        "id": "3sApGAysXcbU"
      },
      "source": [
        "experimetn with max_features and see which works best"
      ]
    },
    {
      "cell_type": "code",
      "execution_count": null,
      "metadata": {
        "id": "2xDFrLrAXpRa"
      },
      "outputs": [],
      "source": [
        "movieindex = pd.Series(movies.index, index=movies.title)"
      ]
    },
    {
      "cell_type": "code",
      "execution_count": null,
      "metadata": {
        "colab": {
          "base_uri": "https://localhost:8080/"
        },
        "id": "SbT8LHhzX6Ue",
        "outputId": "c0e9f981-24b8-41ae-89df-4d9587477646"
      },
      "outputs": [],
      "source": [
        "movieindex"
      ]
    },
    {
      "cell_type": "code",
      "execution_count": null,
      "metadata": {
        "id": "BXarEtnlX7pl"
      },
      "outputs": [],
      "source": [
        "import re\n",
        "# use this to search for some harry potter movie\n",
        "# also check the cut off date on this dataset"
      ]
    },
    {
      "cell_type": "code",
      "execution_count": null,
      "metadata": {
        "colab": {
          "base_uri": "https://localhost:8080/"
        },
        "id": "_I8ztz6GZOlN",
        "outputId": "f7e7108d-e5d5-486a-a91a-104024c1d7a1"
      },
      "outputs": [],
      "source": [
        "idx = movieindex[\"The Dark Knight\"]\n",
        "idx"
      ]
    },
    {
      "cell_type": "code",
      "execution_count": null,
      "metadata": {
        "colab": {
          "base_uri": "https://localhost:8080/"
        },
        "id": "ASRC_OcXKgWQ",
        "outputId": "79f7f091-13c7-4373-922c-49b94e423a61"
      },
      "outputs": [],
      "source": [
        "query = X[idx]\n",
        "query"
      ]
    },
    {
      "cell_type": "code",
      "execution_count": null,
      "metadata": {
        "colab": {
          "base_uri": "https://localhost:8080/"
        },
        "id": "91BgkcNtKpqT",
        "outputId": "12e0d0ed-5a49-4938-e94f-249c94cfb0a1"
      },
      "outputs": [],
      "source": [
        "query.toarray()"
      ]
    },
    {
      "cell_type": "code",
      "execution_count": null,
      "metadata": {
        "colab": {
          "base_uri": "https://localhost:8080/"
        },
        "id": "Y7oNYSC7K1WG",
        "outputId": "3e9398d2-21fc-40c2-ab4e-39299c3a1344"
      },
      "outputs": [],
      "source": [
        "scores = cosine_similarity(query, X)\n",
        "scores"
      ]
    },
    {
      "cell_type": "markdown",
      "metadata": {
        "id": "36LXDXIRK8cG"
      },
      "source": [
        "this is a 2d array with shape 1xN and now we will make it 1d using flatten"
      ]
    },
    {
      "cell_type": "code",
      "execution_count": null,
      "metadata": {
        "id": "-MU8YBRJLM00"
      },
      "outputs": [],
      "source": [
        "scores = scores.flatten()"
      ]
    },
    {
      "cell_type": "code",
      "execution_count": null,
      "metadata": {
        "colab": {
          "base_uri": "https://localhost:8080/",
          "height": 447
        },
        "id": "TxDl_JSJLPmm",
        "outputId": "7311ffe9-7cc8-49f4-9ed8-55c9ee1dcbd1"
      },
      "outputs": [],
      "source": [
        "plt.plot(scores)"
      ]
    },
    {
      "cell_type": "markdown",
      "metadata": {
        "id": "9tdkX1LKLRte"
      },
      "source": [
        "we want the scores to go in descending order and we do not care about the actual score, we just need the ranking of the movies, so we will use (-scores)<br><br>\n",
        "also, we do not need the sorted values. we need the index (argument) of the sorted values, so we sill use argsort"
      ]
    },
    {
      "cell_type": "code",
      "execution_count": null,
      "metadata": {
        "colab": {
          "base_uri": "https://localhost:8080/"
        },
        "id": "mqpe0AHpLlV3",
        "outputId": "12d73778-de07-42d4-d7c5-dd87af8f5030"
      },
      "outputs": [],
      "source": [
        "(-scores).argsort()"
      ]
    },
    {
      "cell_type": "code",
      "execution_count": null,
      "metadata": {
        "colab": {
          "base_uri": "https://localhost:8080/",
          "height": 447
        },
        "id": "Z6tC1rDlQe8P",
        "outputId": "60a042ad-e979-497e-8af6-4655897b5cd9"
      },
      "outputs": [],
      "source": [
        "plt.plot(scores[(-scores).argsort()])"
      ]
    },
    {
      "cell_type": "code",
      "execution_count": null,
      "metadata": {
        "id": "gPRs-VfjQ3js"
      },
      "outputs": [],
      "source": [
        "recommended_idx = (-scores).argsort()[1:11]"
      ]
    },
    {
      "cell_type": "code",
      "execution_count": null,
      "metadata": {
        "colab": {
          "base_uri": "https://localhost:8080/"
        },
        "id": "K1s57oDeRA2w",
        "outputId": "35829362-67e2-4a26-c0a7-54774c9d2eb5"
      },
      "outputs": [],
      "source": [
        "movies[\"title\"].iloc[recommended_idx]"
      ]
    },
    {
      "cell_type": "code",
      "execution_count": null,
      "metadata": {
        "colab": {
          "base_uri": "https://localhost:8080/"
        },
        "id": "d2liYp-dRQV4",
        "outputId": "83217f7f-b7f2-497f-da85-9a64fe899124"
      },
      "outputs": [],
      "source": [
        "movies[\"title\"].loc[recommended_idx]"
      ]
    },
    {
      "cell_type": "code",
      "execution_count": null,
      "metadata": {
        "id": "5Pt5uHh3Tphd"
      },
      "outputs": [],
      "source": [
        "# make a function for all\n",
        "def recommend(title):\n",
        "    ind = movieindex[title]\n",
        "    if type(ind) == pd.Series:\n",
        "        ind = ind.iloc[0]\n",
        "\n",
        "    query = X[ind]\n",
        "    scores = cosine_similarity(query, X)\n",
        "\n",
        "    scores = scores.flatten()\n",
        "\n",
        "    recommended_ind = (-scores).argsort()[1:11]\n",
        "\n",
        "    return movies.title.loc[recommended_ind]"
      ]
    },
    {
      "cell_type": "code",
      "execution_count": null,
      "metadata": {
        "colab": {
          "base_uri": "https://localhost:8080/"
        },
        "id": "xhE4p_oVUoal",
        "outputId": "2b461b74-5a63-4891-d119-250eef236aa5"
      },
      "outputs": [],
      "source": [
        "print(recommend(\"Mortal Kombat\"))"
      ]
    },
    {
      "cell_type": "code",
      "execution_count": null,
      "metadata": {
        "colab": {
          "base_uri": "https://localhost:8080/"
        },
        "id": "J5q2QOztU0NY",
        "outputId": "a64acb40-37b1-48d1-9f08-d22b7d4884d0"
      },
      "outputs": [],
      "source": [
        "for t in movies.title:\n",
        "    if t.startswith(\"Harry Potter\"):\n",
        "        print(t)"
      ]
    },
    {
      "cell_type": "code",
      "execution_count": null,
      "metadata": {
        "colab": {
          "base_uri": "https://localhost:8080/"
        },
        "id": "bXPjhwMhVIkT",
        "outputId": "fe915b1f-070e-480b-d6f4-0da1fddd5f1c"
      },
      "outputs": [],
      "source": [
        "for t in movies.title:\n",
        "    if t.startswith(\"Fast\"):\n",
        "        print(t)"
      ]
    },
    {
      "cell_type": "code",
      "execution_count": null,
      "metadata": {
        "colab": {
          "base_uri": "https://localhost:8080/"
        },
        "id": "o5gPpQcWVPkB",
        "outputId": "462e6b58-a50a-4c75-c09d-505a3d872dd3"
      },
      "outputs": [],
      "source": [
        "print(recommend(\"Harry Potter and the Chamber of Secrets\"))"
      ]
    },
    {
      "cell_type": "code",
      "execution_count": null,
      "metadata": {
        "id": "QhcVNXWCVZO4"
      },
      "outputs": [],
      "source": []
    }
  ],
  "metadata": {
    "colab": {
      "authorship_tag": "ABX9TyOBaaRQXN4VnFEw00ymWc9W",
      "include_colab_link": true,
      "provenance": []
    },
    "kernelspec": {
      "display_name": "Python 3",
      "name": "python3"
    },
    "language_info": {
      "name": "python"
    }
  },
  "nbformat": 4,
  "nbformat_minor": 0
}
